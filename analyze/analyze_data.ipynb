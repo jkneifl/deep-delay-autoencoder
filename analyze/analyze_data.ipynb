{
 "cells": [
  {
   "cell_type": "code",
   "execution_count": 1,
   "metadata": {},
   "outputs": [],
   "source": [
    "\n",
    "import os\n",
    "# os.environ[\"CUDA_DEVICE_ORDER\"] = \"PCI_BUS_ID\"\n",
    "# os.environ[\"CUDA_VISIBLE_DEVICES\"] = \"2\"\n",
    "# os.environ['KMP_DUPLICATE_LIB_OK'] = 'TRUE'\n",
    "import tensorflow as tf\n",
    "\n",
    "\n",
    "import sys\n",
    "sys.path.append(\"../src\")\n",
    "sys.path.append(\"../\")\n"
   ]
  },
  {
   "cell_type": "code",
   "execution_count": 2,
   "metadata": {
    "scrolled": true
   },
   "outputs": [],
   "source": [
    "\n",
    "\n",
    "import datetime\n",
    "import numpy as np\n",
    "import matplotlib.pyplot as plt\n",
    "from pickle5 import pickle\n",
    "\n",
    "import pdb\n",
    "\n",
    "import matplotlib.pyplot as plt\n",
    "from mpl_toolkits.mplot3d import Axes3D\n",
    "%matplotlib inline\n",
    "\n",
    "from analyze import get_names, read_results, delete_results, get_cases, params_names, load_results\n",
    "from paths import ROOTPATH\n",
    "\n",
    "from os import listdir\n",
    "\n",
    "import pandas as pd\n",
    "# from IPython.display import display\n"
   ]
  },
  {
   "cell_type": "markdown",
   "metadata": {},
   "source": [
    "### Print available cases"
   ]
  },
  {
   "cell_type": "code",
   "execution_count": 3,
   "metadata": {},
   "outputs": [
    {
     "name": "stdout",
     "output_type": "stream",
     "text": [
      "pendulum_basic\n",
      "fluttering_basic\n",
      "fluttering_Re1000\n",
      "lorenzww_basic\n"
     ]
    }
   ],
   "source": [
    "path=ROOTPATH+'testcases/results/'\n",
    "cases = get_cases(path, filter_case=None, print_cases=True)\n",
    "p1, p2, p3 = params_names()"
   ]
  },
  {
   "cell_type": "code",
   "execution_count": 4,
   "metadata": {},
   "outputs": [],
   "source": [
    "my_params = ['loss_weight_integral', 'sindy_pert', 'svd_dim', 'model']"
   ]
  },
  {
   "cell_type": "markdown",
   "metadata": {},
   "source": [
    "### Get names for a given case"
   ]
  },
  {
   "cell_type": "code",
   "execution_count": 5,
   "metadata": {},
   "outputs": [
    {
     "name": "stdout",
     "output_type": "stream",
     "text": [
      "0 results_202208300802_fluttering_Re1000\n",
      "1 results_202208300729_fluttering_Re1000\n",
      "2 results_202208292212_fluttering_Re1000\n",
      "3 results_202208292145_fluttering_Re1000\n",
      "4 results_202208292052_fluttering_Re1000\n",
      "5 results_202208291949_fluttering_Re1000\n",
      "6 results_202208291942_fluttering_basic\n",
      "7 results_202208291941_fluttering_basic\n",
      "8 results_202208291910_lorenzww_basic\n",
      "9 results_202208291909_lorenzww_basic\n",
      "10 results_202208291902_lorenzww_basic\n",
      "11 results_202208291834_lorenzww_basic\n",
      "12 results_202208291754_lorenzww_basic\n",
      "13 results_202208291327_pendulum_basic\n",
      "14 results_202208291325_pendulum_basic\n",
      "15 results_202208291322_pendulum_basic\n",
      "16 results_202208180322_pendulum_basic\n",
      "17 results_202208180308_pendulum_basic\n"
     ]
    }
   ],
   "source": [
    "name_list = get_names(cases, path)\n",
    "for idx, name in enumerate(name_list): print(idx, name) "
   ]
  },
  {
   "cell_type": "code",
   "execution_count": null,
   "metadata": {},
   "outputs": [
    {
     "name": "stdout",
     "output_type": "stream",
     "text": [
      "name:  results_202208291327_pendulum_basic\n"
     ]
    },
    {
     "name": "stderr",
     "output_type": "stream",
     "text": [
      "2022-08-30 11:21:34.315331: I tensorflow/core/platform/cpu_feature_guard.cc:193] This TensorFlow binary is optimized with oneAPI Deep Neural Network Library (oneDNN) to use the following CPU instructions in performance-critical operations:  AVX512F\n",
      "To enable them in other operations, rebuild TensorFlow with the appropriate compiler flags.\n",
      "2022-08-30 11:21:34.922221: I tensorflow/core/common_runtime/gpu/gpu_device.cc:1532] Created device /job:localhost/replica:0/task:0/device:GPU:0 with 9274 MB memory:  -> device: 0, name: NVIDIA GeForce RTX 2080 Ti, pci bus id: 0000:67:00.0, compute capability: 7.5\n",
      "WARNING:absl:Importing a function (__inference_internal_grad_fn_738024) with ops with unsaved custom gradients. Will likely fail if a gradient is requested.\n"
     ]
    }
   ],
   "source": [
    "end_time = 30\n",
    "end_time_plot = 100\n",
    "display_params = my_params #primary_params + secondary_params + tertiary_params\n",
    "t0_frac = 0.2\n",
    "query_remove = False\n",
    "\n",
    "non_existing_files, non_existing_params, remove_files = read_results([name_list[13]], \n",
    "                                                        path, \n",
    "                                                        end_time=end_time, \n",
    "                                                        display_params=display_params, \n",
    "                                                        t0_frac=t0_frac, \n",
    "                                                        end_time_plot=end_time_plot,\n",
    "                                                        query_remove=query_remove)"
   ]
  },
  {
   "cell_type": "code",
   "execution_count": null,
   "metadata": {},
   "outputs": [
    {
     "name": "stderr",
     "output_type": "stream",
     "text": [
      "WARNING:absl:Importing a function (__inference_internal_grad_fn_738024) with ops with unsaved custom gradients. Will likely fail if a gradient is requested.\n"
     ]
    }
   ],
   "source": [
    "model = tf.keras.models.load_model(path+name_list[0])"
   ]
  },
  {
   "cell_type": "code",
   "execution_count": null,
   "metadata": {},
   "outputs": [],
   "source": []
  }
 ],
 "metadata": {
  "kernelspec": {
   "display_name": "Python 3 (ipykernel)",
   "language": "python",
   "name": "python3"
  },
  "language_info": {
   "codemirror_mode": {
    "name": "ipython",
    "version": 3
   },
   "file_extension": ".py",
   "mimetype": "text/x-python",
   "name": "python",
   "nbconvert_exporter": "python",
   "pygments_lexer": "ipython3",
   "version": "3.10.4"
  },
  "vscode": {
   "interpreter": {
    "hash": "28edffddebd8e7e82695004644e928e55a1390a00736088cc396dbbdc4e98ca2"
   }
  }
 },
 "nbformat": 4,
 "nbformat_minor": 4
}
